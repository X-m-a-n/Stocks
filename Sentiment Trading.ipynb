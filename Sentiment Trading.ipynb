{
 "cells": [
  {
   "cell_type": "markdown",
   "id": "462f0adb",
   "metadata": {},
   "source": [
    "# Configuration\n",
    "## General Imports"
   ]
  },
  {
   "cell_type": "code",
   "execution_count": 1,
   "id": "304060e8",
   "metadata": {},
   "outputs": [
    {
     "name": "stdout",
     "output_type": "stream",
     "text": [
      "Buckaroo has been enabled as the default DataFrame viewer.  To return to default dataframe visualization use `from buckaroo import disable; disable()`\n",
      "must be running inside ipython to enable default display via enable()\n"
     ]
    }
   ],
   "source": [
    "# General Tools/Utilities\n",
    "from pathlib import Path\n",
    "import os\n",
    "import polars as pl\n",
    "import pandas as pd\n",
    "import numpy as np\n",
    "import matplotlib.pyplot as plt\n",
    "import seaborn as sns\n",
    "from datetime import datetime, timedelta, date\n",
    "import warnings\n",
    "from multiprocessing import Pool, cpu_count\n",
    "import re\n",
    "from typing import List, Tuple\n",
    "import buckaroo\n",
    "from tqdm import tqdm\n",
    "import gc\n",
    "from fuzzywuzzy import fuzz, process\n",
    "# Warnings\n",
    "import warnings\n",
    "warnings.filterwarnings('ignore')"
   ]
  },
  {
   "cell_type": "markdown",
   "id": "6aa7e44f",
   "metadata": {},
   "source": [
    "## ML Imports"
   ]
  },
  {
   "cell_type": "code",
   "execution_count": 6,
   "id": "7b4b912e",
   "metadata": {},
   "outputs": [],
   "source": [
    "# Machine Learning Imports\n",
    "from sklearn.model_selection import TimeSeriesSplit, cross_val_score, train_test_split\n",
    "from sklearn.preprocessing import StandardScaler, RobustScaler\n",
    "from sklearn.ensemble import RandomForestRegressor, GradientBoostingRegressor\n",
    "from sklearn.linear_model import Ridge, Lasso, ElasticNet, LinearRegression\n",
    "from sklearn.metrics import mean_squared_error, mean_absolute_error, r2_score\n",
    "from sklearn.pipeline import Pipeline\n",
    "import xgboost as xgb\n",
    "import lightgbm as lgb"
   ]
  },
  {
   "cell_type": "markdown",
   "id": "755447ae",
   "metadata": {},
   "source": [
    "## Custom Imports"
   ]
  },
  {
   "cell_type": "code",
   "execution_count": 7,
   "id": "2a7c7de7",
   "metadata": {},
   "outputs": [
    {
     "ename": "ModuleNotFoundError",
     "evalue": "No module named 'config'",
     "output_type": "error",
     "traceback": [
      "\u001b[31m---------------------------------------------------------------------------\u001b[39m",
      "\u001b[31mModuleNotFoundError\u001b[39m                       Traceback (most recent call last)",
      "\u001b[36mCell\u001b[39m\u001b[36m \u001b[39m\u001b[32mIn[7]\u001b[39m\u001b[32m, line 2\u001b[39m\n\u001b[32m      1\u001b[39m \u001b[38;5;66;03m# Custom Imports\u001b[39;00m\n\u001b[32m----> \u001b[39m\u001b[32m2\u001b[39m \u001b[38;5;28;01mfrom\u001b[39;00m\u001b[38;5;250m \u001b[39m\u001b[34;01mdata_loader\u001b[39;00m\u001b[38;5;250m \u001b[39m\u001b[38;5;28;01mimport\u001b[39;00m DataLoader\n\u001b[32m      3\u001b[39m \u001b[38;5;28;01mfrom\u001b[39;00m\u001b[38;5;250m \u001b[39m\u001b[34;01mjse_companies\u001b[39;00m\u001b[38;5;250m \u001b[39m\u001b[38;5;28;01mimport\u001b[39;00m jse_company_names\n\u001b[32m      4\u001b[39m \u001b[38;5;28;01mfrom\u001b[39;00m\u001b[38;5;250m \u001b[39m\u001b[34;01mtechnical_indicators\u001b[39;00m\u001b[38;5;250m \u001b[39m\u001b[38;5;28;01mimport\u001b[39;00m add_all_indicators, filter_buy_signals, get_signals_summary\n",
      "\u001b[36mFile \u001b[39m\u001b[32mc:\\Users\\Joshh\\Projects\\Stocks\\data_loader.py:7\u001b[39m\n\u001b[32m      5\u001b[39m \u001b[38;5;28;01mimport\u001b[39;00m\u001b[38;5;250m \u001b[39m\u001b[34;01mpandas\u001b[39;00m\u001b[38;5;250m \u001b[39m\u001b[38;5;28;01mas\u001b[39;00m\u001b[38;5;250m \u001b[39m\u001b[34;01mpd\u001b[39;00m\n\u001b[32m      6\u001b[39m \u001b[38;5;28;01mfrom\u001b[39;00m\u001b[38;5;250m \u001b[39m\u001b[34;01msqlalchemy\u001b[39;00m\u001b[38;5;250m \u001b[39m\u001b[38;5;28;01mimport\u001b[39;00m create_engine, text\n\u001b[32m----> \u001b[39m\u001b[32m7\u001b[39m \u001b[38;5;28;01mfrom\u001b[39;00m\u001b[38;5;250m \u001b[39m\u001b[34;01mconfig\u001b[39;00m\u001b[38;5;250m \u001b[39m\u001b[38;5;28;01mimport\u001b[39;00m DB_CONFIG, COLUMN_MAPPING\n\u001b[32m      9\u001b[39m \u001b[38;5;28;01mclass\u001b[39;00m\u001b[38;5;250m \u001b[39m\u001b[34;01mDataLoader\u001b[39;00m:\n\u001b[32m     10\u001b[39m \u001b[38;5;250m    \u001b[39m\u001b[33;03m\"\"\"Handles database connections and data retrieval for backtesting.\"\"\"\u001b[39;00m\n",
      "\u001b[31mModuleNotFoundError\u001b[39m: No module named 'config'"
     ]
    }
   ],
   "source": [
    "# Custom Imports\n",
    "from data_loader import DataLoader\n",
    "from jse_companies import jse_company_names\n",
    "from technical_indicators import add_all_indicators, filter_buy_signals, get_signals_summary\n",
    "from data import MarketDataPipeline, create_pipeline"
   ]
  },
  {
   "cell_type": "markdown",
   "id": "9b455820",
   "metadata": {},
   "source": [
    "# Get Data"
   ]
  },
  {
   "cell_type": "code",
   "execution_count": null,
   "id": "b08a4089",
   "metadata": {},
   "outputs": [],
   "source": [
    "# df = pipeline.load_stock_data(\n",
    "#     start_date='2017-01-01', \n",
    "#     end_date='2025-03-31'\n",
    "# )"
   ]
  },
  {
   "cell_type": "code",
   "execution_count": 4,
   "id": "97a12689",
   "metadata": {},
   "outputs": [],
   "source": [
    "fileLoc = 'C:/Users/Joshh/Projects/Stocks/Data/joined_newspaper_data_v5.parquet'\n",
    "df = pl.read_parquet(fileLoc)"
   ]
  },
  {
   "cell_type": "code",
   "execution_count": 5,
   "id": "75c5a4a8",
   "metadata": {},
   "outputs": [
    {
     "data": {
      "application/vnd.jupyter.widget-view+json": {
       "model_id": "510589930a104a209df9ed68ebf42bec",
       "version_major": 2,
       "version_minor": 1
      },
      "text/plain": [
       "PolarsBuckarooWidget(buckaroo_options={'sampled': ['random'], 'auto_clean': ['aggressive', 'conservative'], 'p…"
      ]
     },
     "metadata": {},
     "output_type": "display_data"
    }
   ],
   "source": [
    "df.head()"
   ]
  },
  {
   "cell_type": "code",
   "execution_count": null,
   "id": "ea87eae2",
   "metadata": {},
   "outputs": [],
   "source": [
    "sent_fileLoc = 'C:/Users/Joshh/Projects/Stocks/Data/joined_newspaper_data_v5.parquet'\n",
    "\n",
    "# Or use the factory function\n",
    "integrated_data = create_pipeline(\n",
    "    data_loader=DataLoader(),\n",
    "    jse_companies=jse_company_names,\n",
    "    sentiment_file_path=df_sentiLoc\n",
    ")\n",
    "\n"
   ]
  },
  {
   "cell_type": "code",
   "execution_count": 18,
   "id": "fac3cc12",
   "metadata": {},
   "outputs": [],
   "source": [
    "import polars as pl\n",
    "\n",
    "def load_sentiment(fileLoc: str) -> pl.DataFrame:\n",
    "    df = pl.read_parquet(fileLoc)\n",
    "\n",
    "    df = df.with_columns([\n",
    "        pl.when((pl.col(\"title_fin_polarity\") != 0) & (pl.col(\"text_fin_polarity\") != 0))\n",
    "          .then((pl.col(\"title_fin_polarity\") + pl.col(\"text_fin_polarity\")) / 2)\n",
    "          .otherwise(pl.col(\"text_fin_polarity\"))\n",
    "          .alias(\"avg_polarity\"),\n",
    "\n",
    "        pl.when((pl.col(\"title_fin_subjectivity\") != 0) & (pl.col(\"text_fin_subjectivity\") != 0))\n",
    "          .then((pl.col(\"title_fin_subjectivity\") + pl.col(\"text_fin_subjectivity\")) / 2)\n",
    "          .otherwise(pl.col(\"text_fin_subjectivity\"))\n",
    "          .alias(\"avg_subjectivity\")\n",
    "    ])\n",
    "\n",
    "    drop_cols = [\n",
    "        'publication_date',\n",
    "        'organizations',\n",
    "        'sentiment_polarity',\n",
    "        'sentiment_subjectivity',\n",
    "        'title_polarity',\n",
    "        'title_subjectivity',\n",
    "        'title_fin_polarity',\n",
    "        'title_fin_subjectivity',\n",
    "        'text_fin_polarity',\n",
    "        'text_fin_subjectivity',\n",
    "    ]\n",
    "    df = df.drop([col for col in drop_cols if col in df.columns])\n",
    "\n",
    "    return df\n"
   ]
  },
  {
   "cell_type": "code",
   "execution_count": 20,
   "id": "323d4296",
   "metadata": {},
   "outputs": [
    {
     "data": {
      "application/vnd.jupyter.widget-view+json": {
       "model_id": "5ad8958de4d34b5da9ead11fdd26de43",
       "version_major": 2,
       "version_minor": 1
      },
      "text/plain": [
       "PolarsBuckarooWidget(buckaroo_options={'sampled': ['random'], 'auto_clean': ['aggressive', 'conservative'], 'p…"
      ]
     },
     "metadata": {},
     "output_type": "display_data"
    }
   ],
   "source": [
    "df_test = load_sentiment(sent_fileLoc)\n",
    "df_test.head()"
   ]
  },
  {
   "cell_type": "code",
   "execution_count": 10,
   "id": "e4e92b24",
   "metadata": {},
   "outputs": [
    {
     "data": {
      "text/plain": [
       "['publication_date',\n",
       " 'organizations',\n",
       " 'title',\n",
       " 'sentiment_polarity',\n",
       " 'sentiment_subjectivity',\n",
       " 'title_polarity',\n",
       " 'title_subjectivity',\n",
       " 'title_fin_polarity',\n",
       " 'title_fin_subjectivity',\n",
       " 'text_fin_polarity',\n",
       " 'text_fin_subjectivity',\n",
       " 'institution',\n",
       " 'date',\n",
       " 'symbol']"
      ]
     },
     "execution_count": 10,
     "metadata": {},
     "output_type": "execute_result"
    }
   ],
   "source": [
    "df.columns"
   ]
  },
  {
   "cell_type": "code",
   "execution_count": 9,
   "id": "c4a24831",
   "metadata": {},
   "outputs": [
    {
     "data": {
      "application/vnd.jupyter.widget-view+json": {
       "model_id": "a5378076782a4ef4a9fcf2556319d66e",
       "version_major": 2,
       "version_minor": 1
      },
      "text/plain": [
       "PolarsBuckarooWidget(buckaroo_options={'sampled': ['random'], 'auto_clean': ['aggressive', 'conservative'], 'p…"
      ]
     },
     "metadata": {},
     "output_type": "display_data"
    }
   ],
   "source": [
    "sent_fileLoc = 'C:/Users/Joshh/Projects/Stocks/Data/joined_newspaper_data_v5.parquet'\n",
    "df =pl.read_parquet(sent_fileLoc)\n",
    "df.head(10)"
   ]
  },
  {
   "cell_type": "code",
   "execution_count": null,
   "id": "04896f17",
   "metadata": {},
   "outputs": [
    {
     "data": {
      "application/vnd.jupyter.widget-view+json": {
       "model_id": "49845493d25d4f8b8361367e1cd9bdb2",
       "version_major": 2,
       "version_minor": 1
      },
      "text/plain": [
       "PolarsBuckarooWidget(buckaroo_options={'sampled': ['random'], 'auto_clean': ['aggressive', 'conservative'], 'p…"
      ]
     },
     "metadata": {},
     "output_type": "display_data"
    }
   ],
   "source": [
    "df.filter(pl.col('sentiment_polarity') != pl.col('text_fin_polarity'))"
   ]
  }
 ],
 "metadata": {
  "kernelspec": {
   "display_name": "Python 3",
   "language": "python",
   "name": "python3"
  },
  "language_info": {
   "codemirror_mode": {
    "name": "ipython",
    "version": 3
   },
   "file_extension": ".py",
   "mimetype": "text/x-python",
   "name": "python",
   "nbconvert_exporter": "python",
   "pygments_lexer": "ipython3",
   "version": "3.12.10"
  }
 },
 "nbformat": 4,
 "nbformat_minor": 5
}
