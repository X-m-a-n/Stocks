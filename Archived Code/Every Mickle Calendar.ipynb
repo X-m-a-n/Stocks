{
 "cells": [
  {
   "cell_type": "markdown",
   "metadata": {
    "polyglot_notebook": {
     "kernelName": "csharp"
    }
   },
   "source": [
    "# Every Mickle Calendar Analysis"
   ]
  },
  {
   "cell_type": "code",
   "execution_count": 11,
   "metadata": {},
   "outputs": [],
   "source": [
    "import os\n",
    "import pickle\n",
    "from google.auth.transport.requests import Request\n",
    "from google_auth_oauthlib.flow import InstalledAppFlow\n",
    "from googleapiclient.discovery import build\n",
    "from googleapiclient.errors import HttpError\n",
    "import polars as pl\n",
    "from datetime import datetime, timedelta"
   ]
  },
  {
   "cell_type": "code",
   "execution_count": 2,
   "metadata": {},
   "outputs": [],
   "source": [
    "gcloud_cred = r\"C:\\Users\\Joshh\\OneDrive\\Documents\\Stocks\\Auth\\googleCloud_gcal\\client_secret_433766140968-mkjmsthdo1vtq0d9sd8nk9mkbeqgg88s.apps.googleusercontent.com.json\""
   ]
  },
  {
   "cell_type": "code",
   "execution_count": 3,
   "metadata": {},
   "outputs": [],
   "source": [
    "# Set up OAuth 2.0 credentials\n",
    "SCOPES = ['https://www.googleapis.com/auth/calendar.readonly']\n",
    "\n",
    "def authenticate_google_calendar(credentials_file = gcloud_cred, token_file='token.pickle'):\n",
    "    \"\"\"Authenticate with Google Calendar API and return credentials.\"\"\"\n",
    "    creds = None\n",
    "    \n",
    "    # Load cached credentials if they exist\n",
    "    if os.path.exists(token_file):\n",
    "        try:\n",
    "            with open(token_file, 'rb') as token:\n",
    "                creds = pickle.load(token)\n",
    "        except Exception as e:\n",
    "            print(f\"Error loading cached credentials: {e}\")\n",
    "    \n",
    "    # If credentials don't exist or are invalid, get new ones\n",
    "    if not creds or not creds.valid:\n",
    "        try:\n",
    "            if creds and creds.expired and creds.refresh_token:\n",
    "                creds.refresh(Request())\n",
    "            else:\n",
    "                if not os.path.exists(credentials_file):\n",
    "                    raise FileNotFoundError(f\"Credentials file not found: {credentials_file}\")\n",
    "                \n",
    "                flow = InstalledAppFlow.from_client_secrets_file(\n",
    "                    credentials_file, SCOPES)\n",
    "                creds = flow.run_local_server(port=0)\n",
    "            \n",
    "            # Save credentials for future use\n",
    "            with open(token_file, 'wb') as token:\n",
    "                pickle.dump(creds, token)\n",
    "        except Exception as e:\n",
    "            raise Exception(f\"Authentication failed: {e}\")\n",
    "    \n",
    "    return creds"
   ]
  },
  {
   "cell_type": "code",
   "execution_count": 4,
   "metadata": {},
   "outputs": [],
   "source": [
    "def get_calendar_events(calendar_id, days=30):\n",
    "    creds = authenticate_google_calendar()\n",
    "    service = build('calendar', 'v3', credentials=creds)\n",
    "    \n",
    "    # Calculate time bounds\n",
    "    now = datetime.utcnow()\n",
    "    time_min = now.isoformat() + 'Z'\n",
    "    time_max = (now + timedelta(days=days)).isoformat() + 'Z'\n",
    "    \n",
    "    # Get events\n",
    "    events_result = service.events().list(\n",
    "        calendarId=calendar_id,\n",
    "        timeMin=time_min,\n",
    "        timeMax=time_max,\n",
    "        singleEvents=True,\n",
    "        orderBy='startTime'\n",
    "    ).execute()\n",
    "    \n",
    "    events = events_result.get('items', [])\n",
    "    \n",
    "    # Convert to DataFrame\n",
    "    event_data = []\n",
    "    for event in events:\n",
    "        start = event['start'].get('dateTime', event['start'].get('date'))\n",
    "        end = event['end'].get('dateTime', event['end'].get('date'))\n",
    "        \n",
    "        event_info = {\n",
    "            'summary': event.get('summary', 'No Title'),\n",
    "            'start': start,\n",
    "            'end': end,\n",
    "            'created': event.get('created', ''),\n",
    "            'organizer': event.get('organizer', {}).get('email', ''),\n",
    "            'status': event.get('status', ''),\n",
    "            'link': event.get('htmlLink', '')\n",
    "        }\n",
    "        event_data.append(event_info)\n",
    "    \n",
    "    # Create Polars DataFrame\n",
    "    if event_data:\n",
    "        df = pl.from_dicts(event_data)\n",
    "        return df\n",
    "    else:\n",
    "        return pl.DataFrame()\n"
   ]
  },
  {
   "cell_type": "code",
   "execution_count": null,
   "metadata": {},
   "outputs": [],
   "source": [
    "# Example usage\n",
    "calendar_id = 'everymickle.com_5tt4gqff5p5lupdmmmt586c2mo@group.calendar.google.com'\n"
   ]
  },
  {
   "cell_type": "code",
   "execution_count": 12,
   "metadata": {},
   "outputs": [
    {
     "name": "stderr",
     "output_type": "stream",
     "text": [
      "C:\\Users\\Joshh\\AppData\\Local\\Temp\\ipykernel_36148\\2823506455.py:6: DeprecationWarning: datetime.datetime.utcnow() is deprecated and scheduled for removal in a future version. Use timezone-aware objects to represent datetimes in UTC: datetime.datetime.now(datetime.UTC).\n",
      "  now = datetime.utcnow()\n"
     ]
    }
   ],
   "source": [
    "events_df = get_calendar_events(calendar_id)"
   ]
  },
  {
   "cell_type": "code",
   "execution_count": 17,
   "metadata": {},
   "outputs": [
    {
     "name": "stdout",
     "output_type": "stream",
     "text": [
      "Current schema:\n",
      "Schema({'summary': String, 'start': Datetime(time_unit='us', time_zone='UTC'), 'end': Datetime(time_unit='us', time_zone='UTC'), 'created': String, 'organizer': String, 'status': String, 'link': String, 'duration': Duration(time_unit='us'), 'day_of_week': Int8})\n",
      "Total events: 86\n",
      "Average duration: 3:55:00\n",
      "Events by day of week:\n",
      "shape: (5, 2)\n",
      "┌───────────┬───────┐\n",
      "│ day_name  ┆ count │\n",
      "│ ---       ┆ ---   │\n",
      "│ str       ┆ u32   │\n",
      "╞═══════════╪═══════╡\n",
      "│ Wednesday ┆ 1     │\n",
      "│ Thursday  ┆ 1     │\n",
      "│ Friday    ┆ 2     │\n",
      "│ Sunday    ┆ 2     │\n",
      "│ Unknown   ┆ 80    │\n",
      "└───────────┴───────┘\n",
      "\n",
      "Duration statistics (minutes):\n",
      "shape: (1, 3)\n",
      "┌─────────────┬─────────────┬─────────────┐\n",
      "│ avg_minutes ┆ min_minutes ┆ max_minutes │\n",
      "│ ---         ┆ ---         ┆ ---         │\n",
      "│ i64         ┆ i64         ┆ i64         │\n",
      "╞═════════════╪═════════════╪═════════════╡\n",
      "│ 235         ┆ 120         ┆ 600         │\n",
      "└─────────────┴─────────────┴─────────────┘\n"
     ]
    },
    {
     "name": "stderr",
     "output_type": "stream",
     "text": [
      "C:\\Users\\Joshh\\AppData\\Local\\Temp\\ipykernel_36148\\2633250381.py:45: DeprecationWarning: `GroupBy.count` is deprecated. It has been renamed to `len`.\n",
      "  day_counts = events_df.group_by('day_name').count()\n",
      "C:\\Users\\Joshh\\AppData\\Local\\Temp\\ipykernel_36148\\2633250381.py:50: MapWithoutReturnDtypeWarning: Calling `map_elements` without specifying `return_dtype` can lead to unpredictable results. Specify `return_dtype` to silence this warning.\n",
      "  day_counts = day_counts.sort(pl.col('day_name').map_elements(lambda x: day_order.get(x, 7)))\n"
     ]
    }
   ],
   "source": [
    "# Basic analysis\n",
    "if not events_df.is_empty():\n",
    "    # Check current data types\n",
    "    print(\"Current schema:\")\n",
    "    print(events_df.schema)\n",
    "    \n",
    "    # Convert string dates to datetime only if they're strings\n",
    "    if events_df[\"start\"].dtype == pl.String:\n",
    "        events_df = events_df.with_columns([\n",
    "            pl.col('start').str.to_datetime(format=\"%Y-%m-%dT%H:%M:%S%z\", strict=False),\n",
    "            pl.col('end').str.to_datetime(format=\"%Y-%m-%dT%H:%M:%S%z\", strict=False)\n",
    "        ])\n",
    "    \n",
    "    # Add duration column\n",
    "    events_df = events_df.with_columns([\n",
    "        (pl.col('end') - pl.col('start')).alias('duration')\n",
    "    ])\n",
    "    \n",
    "    # Basic statistics\n",
    "    event_count = events_df.height\n",
    "    avg_duration = events_df.select(pl.mean('duration')).item()\n",
    "    \n",
    "    print(f\"Total events: {event_count}\")\n",
    "    print(f\"Average duration: {avg_duration}\")\n",
    "    \n",
    "    # Events by day of week\n",
    "    events_df = events_df.with_columns([\n",
    "        pl.col('start').dt.weekday().alias('day_of_week')\n",
    "    ])\n",
    "    \n",
    "    # Create a mapping for day names using when-then expressions\n",
    "    events_df = events_df.with_columns([\n",
    "        pl.when(pl.col('day_of_week') == 0).then(pl.lit('Monday'))\n",
    "        .when(pl.col('day_of_week') == 1).then(pl.lit('Tuesday'))\n",
    "        .when(pl.col('day_of_week') == 2).then(pl.lit('Wednesday'))\n",
    "        .when(pl.col('day_of_week') == 3).then(pl.lit('Thursday'))\n",
    "        .when(pl.col('day_of_week') == 4).then(pl.lit('Friday'))\n",
    "        .when(pl.col('day_of_week') == 5).then(pl.lit('Saturday'))\n",
    "        .when(pl.col('day_of_week') == 6).then(pl.lit('Sunday'))\n",
    "        .otherwise(pl.lit('Unknown'))\n",
    "        .alias('day_name')\n",
    "    ])\n",
    "    \n",
    "    # Group by day name\n",
    "    day_counts = events_df.group_by('day_name').count()\n",
    "    \n",
    "    # Sort by day of week\n",
    "    day_order = {'Monday': 0, 'Tuesday': 1, 'Wednesday': 2, \n",
    "                'Thursday': 3, 'Friday': 4, 'Saturday': 5, 'Sunday': 6}\n",
    "    day_counts = day_counts.sort(pl.col('day_name').map_elements(lambda x: day_order.get(x, 7)))\n",
    "    \n",
    "    print(\"Events by day of week:\")\n",
    "    print(day_counts)\n",
    "    \n",
    "    # Calculate duration statistics in minutes\n",
    "    try:\n",
    "        duration_stats = events_df.select([\n",
    "            (pl.mean('duration').dt.total_minutes()).alias('avg_minutes'),\n",
    "            (pl.min('duration').dt.total_minutes()).alias('min_minutes'),\n",
    "            (pl.max('duration').dt.total_minutes()).alias('max_minutes')\n",
    "        ])\n",
    "        \n",
    "        print(\"\\nDuration statistics (minutes):\")\n",
    "        print(duration_stats)\n",
    "    except Exception as e:\n",
    "        print(f\"Error calculating duration statistics: {e}\")\n",
    "        # Fallback to simpler statistics if needed\n",
    "        print(events_df.select([\n",
    "            pl.mean('duration').alias('avg_duration'),\n",
    "            pl.min('duration').alias('min_duration'),\n",
    "            pl.max('duration').alias('max_duration')\n",
    "        ]))\n",
    "else:\n",
    "    print(\"No events found.\")"
   ]
  }
 ],
 "metadata": {
  "kernelspec": {
   "display_name": "Python 3",
   "language": "python",
   "name": "python3"
  },
  "language_info": {
   "codemirror_mode": {
    "name": "ipython",
    "version": 3
   },
   "file_extension": ".py",
   "mimetype": "text/x-python",
   "name": "python",
   "nbconvert_exporter": "python",
   "pygments_lexer": "ipython3",
   "version": "3.13.2"
  },
  "polyglot_notebook": {
   "kernelInfo": {
    "defaultKernelName": "csharp",
    "items": [
     {
      "aliases": [],
      "languageName": "csharp",
      "name": "csharp"
     }
    ]
   }
  }
 },
 "nbformat": 4,
 "nbformat_minor": 2
}
